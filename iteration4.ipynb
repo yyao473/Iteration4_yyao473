{
 "cells": [
  {
   "cell_type": "code",
   "execution_count": 1,
   "id": "1ff72a94",
   "metadata": {
    "scrolled": true
   },
   "outputs": [
    {
     "name": "stderr",
     "output_type": "stream",
     "text": [
      "WARNING: An illegal reflective access operation has occurred\n",
      "WARNING: Illegal reflective access by org.apache.spark.unsafe.Platform (file:/home/ubuntu/spark-3.2.1-bin-hadoop2.7/jars/spark-unsafe_2.12-3.2.1.jar) to constructor java.nio.DirectByteBuffer(long,int)\n",
      "WARNING: Please consider reporting this to the maintainers of org.apache.spark.unsafe.Platform\n",
      "WARNING: Use --illegal-access=warn to enable warnings of further illegal reflective access operations\n",
      "WARNING: All illegal access operations will be denied in a future release\n",
      "Using Spark's default log4j profile: org/apache/spark/log4j-defaults.properties\n",
      "Setting default log level to \"WARN\".\n",
      "To adjust logging level use sc.setLogLevel(newLevel). For SparkR, use setLogLevel(newLevel).\n",
      "23/10/11 02:05:52 WARN NativeCodeLoader: Unable to load native-hadoop library for your platform... using builtin-java classes where applicable\n"
     ]
    }
   ],
   "source": [
    "import findspark\n",
    "findspark.init('/home/ubuntu/spark-3.2.1-bin-hadoop2.7')\n",
    "import pyspark\n",
    "from pyspark.sql import SparkSession\n",
    "spark = SparkSession.builder.appName('iteration4').getOrCreate()"
   ]
  },
  {
   "cell_type": "code",
   "execution_count": 2,
   "id": "d0430a0a",
   "metadata": {},
   "outputs": [
    {
     "name": "stderr",
     "output_type": "stream",
     "text": [
      "                                                                                \r"
     ]
    }
   ],
   "source": [
    "#read file\n",
    "df = spark.read.csv('PRSA_Data_Aotizhongxin_20130301-20170228.csv', header=True, inferSchema=True)"
   ]
  },
  {
   "cell_type": "code",
   "execution_count": 4,
   "id": "cb26b00b",
   "metadata": {},
   "outputs": [
    {
     "name": "stdout",
     "output_type": "stream",
     "text": [
      "+---+----+-----+---+----+-----+----+---+---+---+---+----+------+-----+----+---+----+------------+\n",
      "| No|year|month|day|hour|PM2.5|PM10|SO2|NO2| CO| O3|TEMP|  PRES| DEWP|RAIN| wd|WSPM|     station|\n",
      "+---+----+-----+---+----+-----+----+---+---+---+---+----+------+-----+----+---+----+------------+\n",
      "|  1|2013|    3|  1|   0|    4|   4|  4|  7|300| 77|-0.7|  1023|-18.8|   0|NNW| 4.4|Aotizhongxin|\n",
      "|  2|2013|    3|  1|   1|    8|   8|  4|  7|300| 77|-1.1|1023.2|-18.2|   0|  N| 4.7|Aotizhongxin|\n",
      "|  3|2013|    3|  1|   2|    7|   7|  5| 10|300| 73|-1.1|1023.5|-18.2|   0|NNW| 5.6|Aotizhongxin|\n",
      "|  4|2013|    3|  1|   3|    6|   6| 11| 11|300| 72|-1.4|1024.5|-19.4|   0| NW| 3.1|Aotizhongxin|\n",
      "|  5|2013|    3|  1|   4|    3|   3| 12| 12|300| 72|  -2|1025.2|-19.5|   0|  N|   2|Aotizhongxin|\n",
      "|  6|2013|    3|  1|   5|    5|   5| 18| 18|400| 66|-2.2|1025.6|-19.6|   0|  N| 3.7|Aotizhongxin|\n",
      "|  7|2013|    3|  1|   6|    3|   3| 18| 32|500| 50|-2.6|1026.5|-19.1|   0|NNE| 2.5|Aotizhongxin|\n",
      "|  8|2013|    3|  1|   7|    3|   6| 19| 41|500| 43|-1.6|1027.4|-19.1|   0|NNW| 3.8|Aotizhongxin|\n",
      "|  9|2013|    3|  1|   8|    3|   6| 16| 43|500| 45| 0.1|1028.3|-19.2|   0|NNW| 4.1|Aotizhongxin|\n",
      "| 10|2013|    3|  1|   9|    3|   8| 12| 28|400| 59| 1.2|1028.5|-19.3|   0|  N| 2.6|Aotizhongxin|\n",
      "| 11|2013|    3|  1|  10|    3|   6|  9| 12|400| 72| 1.9|1028.2|-19.4|   0|NNW| 3.6|Aotizhongxin|\n",
      "| 12|2013|    3|  1|  11|    3|   6|  9| 14|400| 71| 2.9|1028.2|-20.5|   0|  N| 3.7|Aotizhongxin|\n",
      "| 13|2013|    3|  1|  12|    3|   6|  7| 13|300| 74| 3.9|1027.3|-19.7|   0|NNW| 5.1|Aotizhongxin|\n",
      "| 14|2013|    3|  1|  13|    3|   6|  7| 12|400| 76| 5.3|1026.2|-19.3|   0| NW| 4.3|Aotizhongxin|\n",
      "| 15|2013|    3|  1|  14|    6|   9|  7| 11|400| 77|   6|1025.9|-19.6|   0| NW| 4.4|Aotizhongxin|\n",
      "| 16|2013|    3|  1|  15|    8|  15|  7| 14|400| 76| 6.2|1025.7|-18.6|   0|NNE| 2.8|Aotizhongxin|\n",
      "| 17|2013|    3|  1|  16|    9|  19|  9| 13|400| 76| 5.9|1025.6|-18.1|   0|NNW| 3.9|Aotizhongxin|\n",
      "| 18|2013|    3|  1|  17|   10|  23| 11| 15|400| 74| 4.3|1026.3|-18.7|   0|NNE| 2.8|Aotizhongxin|\n",
      "| 19|2013|    3|  1|  18|   11|  20|  8| 20|500| 70| 3.1|1027.4|-18.4|   0|NNE| 2.1|Aotizhongxin|\n",
      "| 20|2013|    3|  1|  19|    8|  14| 12| 30|500| 60| 2.3|1028.3|-18.4|   0|  N| 2.8|Aotizhongxin|\n",
      "+---+----+-----+---+----+-----+----+---+---+---+---+----+------+-----+----+---+----+------------+\n",
      "only showing top 20 rows\n",
      "\n"
     ]
    }
   ],
   "source": [
    "df.show()"
   ]
  },
  {
   "cell_type": "code",
   "execution_count": 5,
   "id": "488eb662",
   "metadata": {},
   "outputs": [
    {
     "name": "stdout",
     "output_type": "stream",
     "text": [
      "root\n",
      " |-- No: integer (nullable = true)\n",
      " |-- year: integer (nullable = true)\n",
      " |-- month: integer (nullable = true)\n",
      " |-- day: integer (nullable = true)\n",
      " |-- hour: integer (nullable = true)\n",
      " |-- PM2.5: string (nullable = true)\n",
      " |-- PM10: string (nullable = true)\n",
      " |-- SO2: string (nullable = true)\n",
      " |-- NO2: string (nullable = true)\n",
      " |-- CO: string (nullable = true)\n",
      " |-- O3: string (nullable = true)\n",
      " |-- TEMP: string (nullable = true)\n",
      " |-- PRES: string (nullable = true)\n",
      " |-- DEWP: string (nullable = true)\n",
      " |-- RAIN: string (nullable = true)\n",
      " |-- wd: string (nullable = true)\n",
      " |-- WSPM: string (nullable = true)\n",
      " |-- station: string (nullable = true)\n",
      "\n"
     ]
    }
   ],
   "source": [
    "df.printSchema()"
   ]
  },
  {
   "cell_type": "code",
   "execution_count": 3,
   "id": "c50b94b2",
   "metadata": {},
   "outputs": [
    {
     "name": "stdout",
     "output_type": "stream",
     "text": [
      "root\n",
      " |-- No: integer (nullable = true)\n",
      " |-- year: integer (nullable = true)\n",
      " |-- month: integer (nullable = true)\n",
      " |-- day: integer (nullable = true)\n",
      " |-- hour: integer (nullable = true)\n",
      " |-- PM10: float (nullable = true)\n",
      " |-- SO2: float (nullable = true)\n",
      " |-- NO2: float (nullable = true)\n",
      " |-- CO: float (nullable = true)\n",
      " |-- O3: float (nullable = true)\n",
      " |-- TEMP: float (nullable = true)\n",
      " |-- PRES: float (nullable = true)\n",
      " |-- DEWP: float (nullable = true)\n",
      " |-- RAIN: float (nullable = true)\n",
      " |-- wd: string (nullable = true)\n",
      " |-- WSPM: float (nullable = true)\n",
      " |-- station: string (nullable = true)\n",
      " |-- PM25: float (nullable = true)\n",
      "\n"
     ]
    }
   ],
   "source": [
    "#To float datatype\n",
    "from pyspark.sql.functions import col\n",
    "from pyspark.sql.types import FloatType\n",
    "\n",
    "df = df.withColumn(\"PM25\", col(\"`PM2.5`\").cast(FloatType()))\n",
    "df = df.withColumn(\"PM10\", col(\"PM10\").cast(FloatType()))\n",
    "df = df.withColumn(\"SO2\", col(\"SO2\").cast(FloatType()))\n",
    "df = df.withColumn(\"NO2\", col(\"NO2\").cast(FloatType()))\n",
    "df = df.withColumn(\"CO\", col(\"CO\").cast(FloatType()))\n",
    "df = df.withColumn(\"O3\", col(\"O3\").cast(FloatType()))\n",
    "df = df.withColumn(\"TEMP\", col(\"TEMP\").cast(FloatType()))\n",
    "df = df.withColumn(\"PRES\", col(\"PRES\").cast(FloatType()))\n",
    "df = df.withColumn(\"DEWP\", col(\"DEWP\").cast(FloatType()))\n",
    "df = df.withColumn(\"RAIN\", col(\"RAIN\").cast(FloatType()))\n",
    "df = df.withColumn(\"WSPM\", col(\"WSPM\").cast(FloatType()))\n",
    "column_to_delete = \"PM2.5\"\n",
    "df = df.drop(column_to_delete)\n",
    "df.printSchema()"
   ]
  },
  {
   "cell_type": "code",
   "execution_count": 8,
   "id": "05d99ec0",
   "metadata": {},
   "outputs": [
    {
     "name": "stderr",
     "output_type": "stream",
     "text": [
      "\r",
      "[Stage 3:>                                                          (0 + 1) / 1]\r"
     ]
    },
    {
     "name": "stdout",
     "output_type": "stream",
     "text": [
      "+-------+-----------------+\n",
      "|summary|             PM25|\n",
      "+-------+-----------------+\n",
      "|  count|            34139|\n",
      "|   mean|82.77361082658466|\n",
      "| stddev|82.13569353795498|\n",
      "|    min|              3.0|\n",
      "|    max|            898.0|\n",
      "+-------+-----------------+\n",
      "\n"
     ]
    },
    {
     "name": "stderr",
     "output_type": "stream",
     "text": [
      "\r",
      "                                                                                \r"
     ]
    }
   ],
   "source": [
    "target = \"PM25\"\n",
    "column_description = df.describe([target])\n",
    "column_description.show()"
   ]
  },
  {
   "cell_type": "code",
   "execution_count": 9,
   "id": "9e0e04d9",
   "metadata": {},
   "outputs": [
    {
     "name": "stdout",
     "output_type": "stream",
     "text": [
      "Column Name: No\n",
      "+-------+-----------------+\n",
      "|summary|               No|\n",
      "+-------+-----------------+\n",
      "|  count|            35064|\n",
      "|   mean|          17532.5|\n",
      "| stddev|10122.24925597073|\n",
      "|    min|                1|\n",
      "|    max|            35064|\n",
      "+-------+-----------------+\n",
      "\n",
      "Column Name: year\n",
      "+-------+------------------+\n",
      "|summary|              year|\n",
      "+-------+------------------+\n",
      "|  count|             35064|\n",
      "|   mean| 2014.662559890486|\n",
      "| stddev|1.1772134318242622|\n",
      "|    min|              2013|\n",
      "|    max|              2017|\n",
      "+-------+------------------+\n",
      "\n",
      "Column Name: month\n",
      "+-------+-----------------+\n",
      "|summary|            month|\n",
      "+-------+-----------------+\n",
      "|  count|            35064|\n",
      "|   mean|6.522929500342231|\n",
      "| stddev|3.448752360047857|\n",
      "|    min|                1|\n",
      "|    max|               12|\n",
      "+-------+-----------------+\n",
      "\n",
      "Column Name: day\n",
      "+-------+------------------+\n",
      "|summary|               day|\n",
      "+-------+------------------+\n",
      "|  count|             35064|\n",
      "|   mean|15.729637234770705|\n",
      "| stddev|  8.80021752943156|\n",
      "|    min|                 1|\n",
      "|    max|                31|\n",
      "+-------+------------------+\n",
      "\n",
      "Column Name: hour\n",
      "+-------+-----------------+\n",
      "|summary|             hour|\n",
      "+-------+-----------------+\n",
      "|  count|            35064|\n",
      "|   mean|             11.5|\n",
      "| stddev|6.922285262428006|\n",
      "|    min|                0|\n",
      "|    max|               23|\n",
      "+-------+-----------------+\n",
      "\n",
      "Column Name: PM10\n",
      "+-------+------------------+\n",
      "|summary|              PM10|\n",
      "+-------+------------------+\n",
      "|  count|             34346|\n",
      "|   mean|110.06039131229858|\n",
      "| stddev| 95.22300456276065|\n",
      "|    min|               2.0|\n",
      "|    max|             984.0|\n",
      "+-------+------------------+\n",
      "\n",
      "Column Name: SO2\n",
      "+-------+------------------+\n",
      "|summary|               SO2|\n",
      "+-------+------------------+\n",
      "|  count|             34129|\n",
      "|   mean|17.375901409382244|\n",
      "| stddev| 22.82301690295762|\n",
      "|    min|            0.2856|\n",
      "|    max|             341.0|\n",
      "+-------+------------------+\n",
      "\n",
      "Column Name: NO2\n",
      "+-------+-----------------+\n",
      "|summary|              NO2|\n",
      "+-------+-----------------+\n",
      "|  count|            34041|\n",
      "|   mean|59.30583318825359|\n",
      "| stddev|37.11619958197484|\n",
      "|    min|              2.0|\n",
      "|    max|            290.0|\n",
      "+-------+-----------------+\n",
      "\n",
      "Column Name: CO\n",
      "+-------+------------------+\n",
      "|summary|                CO|\n",
      "+-------+------------------+\n",
      "|  count|             33288|\n",
      "|   mean|1262.9451453977408|\n",
      "| stddev|1221.4362363961852|\n",
      "|    min|             100.0|\n",
      "|    max|           10000.0|\n",
      "+-------+------------------+\n",
      "\n",
      "Column Name: O3\n",
      "+-------+-----------------+\n",
      "|summary|               O3|\n",
      "+-------+-----------------+\n",
      "|  count|            33345|\n",
      "|   mean| 56.3533584123319|\n",
      "| stddev|57.91632665104781|\n",
      "|    min|           0.2142|\n",
      "|    max|            423.0|\n",
      "+-------+-----------------+\n",
      "\n",
      "Column Name: TEMP\n",
      "+-------+------------------+\n",
      "|summary|              TEMP|\n",
      "+-------+------------------+\n",
      "|  count|             35044|\n",
      "|   mean|13.584607417126874|\n",
      "| stddev|11.399096949068074|\n",
      "|    min|             -16.8|\n",
      "|    max|              40.5|\n",
      "+-------+------------------+\n",
      "\n",
      "Column Name: PRES\n",
      "+-------+------------------+\n",
      "|summary|              PRES|\n",
      "+-------+------------------+\n",
      "|  count|             35044|\n",
      "|   mean|1011.8469195993451|\n",
      "| stddev| 10.40404645156244|\n",
      "|    min|             985.9|\n",
      "|    max|            1042.0|\n",
      "+-------+------------------+\n",
      "\n",
      "Column Name: DEWP\n",
      "+-------+------------------+\n",
      "|summary|              DEWP|\n",
      "+-------+------------------+\n",
      "|  count|             35044|\n",
      "|   mean| 3.123062434951846|\n",
      "| stddev|13.688896009621764|\n",
      "|    min|             -35.3|\n",
      "|    max|              28.5|\n",
      "+-------+------------------+\n",
      "\n",
      "Column Name: RAIN\n",
      "+-------+-------------------+\n",
      "|summary|               RAIN|\n",
      "+-------+-------------------+\n",
      "|  count|              35044|\n",
      "|   mean|0.06742095652082823|\n",
      "| stddev| 0.9100559133347362|\n",
      "|    min|                0.0|\n",
      "|    max|               72.5|\n",
      "+-------+-------------------+\n",
      "\n"
     ]
    },
    {
     "name": "stderr",
     "output_type": "stream",
     "text": [
      "\r",
      "[Stage 48:>                                                         (0 + 1) / 1]\r"
     ]
    },
    {
     "name": "stdout",
     "output_type": "stream",
     "text": [
      "Column Name: wd\n",
      "+-------+-----+\n",
      "|summary|   wd|\n",
      "+-------+-----+\n",
      "|  count|35064|\n",
      "|   mean| null|\n",
      "| stddev| null|\n",
      "|    min|    E|\n",
      "|    max|  WSW|\n",
      "+-------+-----+\n",
      "\n"
     ]
    },
    {
     "name": "stderr",
     "output_type": "stream",
     "text": [
      "\r",
      "                                                                                \r"
     ]
    },
    {
     "name": "stdout",
     "output_type": "stream",
     "text": [
      "Column Name: WSPM\n",
      "+-------+------------------+\n",
      "|summary|              WSPM|\n",
      "+-------+------------------+\n",
      "|  count|             35050|\n",
      "|   mean| 1.708496432932952|\n",
      "| stddev|1.2040710705547837|\n",
      "|    min|               0.0|\n",
      "|    max|              11.2|\n",
      "+-------+------------------+\n",
      "\n",
      "Column Name: station\n",
      "+-------+------------+\n",
      "|summary|     station|\n",
      "+-------+------------+\n",
      "|  count|       35064|\n",
      "|   mean|        null|\n",
      "| stddev|        null|\n",
      "|    min|Aotizhongxin|\n",
      "|    max|Aotizhongxin|\n",
      "+-------+------------+\n",
      "\n",
      "Column Name: PM25\n",
      "+-------+-----------------+\n",
      "|summary|             PM25|\n",
      "+-------+-----------------+\n",
      "|  count|            34139|\n",
      "|   mean|82.77361082658466|\n",
      "| stddev|82.13569353795498|\n",
      "|    min|              3.0|\n",
      "|    max|            898.0|\n",
      "+-------+-----------------+\n",
      "\n"
     ]
    }
   ],
   "source": [
    "column_names = df.columns\n",
    "\n",
    "for column_name in column_names:\n",
    "    column_description = df.describe([column_name])\n",
    "    print(f\"Column Name: {column_name}\")\n",
    "    column_description.show()"
   ]
  },
  {
   "cell_type": "code",
   "execution_count": 10,
   "id": "57657b81",
   "metadata": {},
   "outputs": [
    {
     "name": "stderr",
     "output_type": "stream",
     "text": [
      "                                                                                \r"
     ]
    },
    {
     "data": {
      "image/png": "[encoded data removed]",
      "text/plain": [
       "<Figure size 432x288 with 1 Axes>"
      ]
     },
     "metadata": {
      "needs_background": "light"
     },
     "output_type": "display_data"
    }
   ],
   "source": [
    "import matplotlib.pyplot as plt\n",
    "hist_data = df.select(\"PM25\").rdd.flatMap(lambda x: x).histogram(20)\n",
    "hist_values = hist_data[1]\n",
    "hist_bins = hist_data[0]\n",
    "plt.hist(hist_bins[:-1], bins=hist_bins, weights=hist_values, color='blue', alpha=0.7)\n",
    "plt.xlabel(\"PM2.5\")\n",
    "plt.ylabel(\"Frequency\")\n",
    "plt.title(\"Histogram of PM2.5\")\n",
    "plt.show()"
   ]
  },
  {
   "cell_type": "code",
   "execution_count": 11,
   "id": "cbd9e9d7",
   "metadata": {},
   "outputs": [
    {
     "data": {
      "image/png": "[encoded data removed]",
      "text/plain": [
       "<Figure size 576x360 with 1 Axes>"
      ]
     },
     "metadata": {
      "needs_background": "light"
     },
     "output_type": "display_data"
    }
   ],
   "source": [
    "from pyspark.sql.functions import avg\n",
    "import matplotlib.pyplot as plt\n",
    "\n",
    "avg_pm25_by_month = df.groupBy('month').agg(avg('PM25').alias('avg_PM2.5'))\n",
    "avg_pm25_pandas = avg_pm25_by_month.toPandas()\n",
    "\n",
    "plt.figure(figsize=(8, 5))\n",
    "plt.bar(avg_pm25_pandas['month'], avg_pm25_pandas['avg_PM2.5'])\n",
    "plt.xlabel(\"Month\")\n",
    "plt.ylabel(\"Average PM2.5\")\n",
    "plt.title(\"Average PM2.5 by Month\")\n",
    "plt.show()"
   ]
  },
  {
   "cell_type": "code",
   "execution_count": 12,
   "id": "58d0c26a",
   "metadata": {},
   "outputs": [
    {
     "data": {
      "image/png": "[encoded data removed]",
      "text/plain": [
       "<Figure size 576x360 with 1 Axes>"
      ]
     },
     "metadata": {
      "needs_background": "light"
     },
     "output_type": "display_data"
    }
   ],
   "source": [
    "avg_pm25_by_hour = df.groupBy('hour').agg(avg('PM25').alias('avg_PM2.5'))\n",
    "avg_pm25_pandas = avg_pm25_by_hour.toPandas()\n",
    "\n",
    "plt.figure(figsize=(8, 5))\n",
    "plt.bar(avg_pm25_pandas['hour'], avg_pm25_pandas['avg_PM2.5'])\n",
    "plt.xlabel(\"Hour\")\n",
    "plt.ylabel(\"Average PM2.5\")\n",
    "plt.title(\"Average PM2.5 by Hour\")\n",
    "plt.show()"
   ]
  },
  {
   "cell_type": "code",
   "execution_count": 13,
   "id": "982071eb",
   "metadata": {},
   "outputs": [
    {
     "name": "stdout",
     "output_type": "stream",
     "text": [
      "+---+----+-----+---+----+----+---+----+----+----+----+----+----+----+---+----+-------+----+\n",
      "| No|year|month|day|hour|PM10|SO2| NO2|  CO|  O3|TEMP|PRES|DEWP|RAIN| wd|WSPM|station|PM25|\n",
      "+---+----+-----+---+----+----+---+----+----+----+----+----+----+----+---+----+-------+----+\n",
      "|  0|   0|    0|  0|   0| 718|935|1023|1776|1719|  20|  20|  20|  20|  0|  14|      0| 925|\n",
      "+---+----+-----+---+----+----+---+----+----+----+----+----+----+----+---+----+-------+----+\n",
      "\n"
     ]
    },
    {
     "name": "stderr",
     "output_type": "stream",
     "text": [
      "\r",
      "[Stage 68:>                                                         (0 + 1) / 1]\r",
      "\r",
      "                                                                                \r"
     ]
    }
   ],
   "source": [
    "#missing count\n",
    "from pyspark.sql.functions import col, count, when, sum\n",
    "\n",
    "missing_values = df.select([count(when(col(c).isNull(), c)).alias(c) for c in df.columns])\n",
    "missing_values.show()"
   ]
  },
  {
   "cell_type": "code",
   "execution_count": 4,
   "id": "b67f8d75",
   "metadata": {},
   "outputs": [
    {
     "name": "stderr",
     "output_type": "stream",
     "text": [
      "\r",
      "[Stage 2:>                                                          (0 + 1) / 1]\r"
     ]
    },
    {
     "name": "stdout",
     "output_type": "stream",
     "text": [
      "rows: 31876, columns: 18\n"
     ]
    },
    {
     "name": "stderr",
     "output_type": "stream",
     "text": [
      "\r",
      "                                                                                \r"
     ]
    }
   ],
   "source": [
    "#drop missing\n",
    "df = df.dropna()\n",
    "num_rows = df.count()\n",
    "num_columns = len(df.columns)\n",
    "print(f\"rows: {num_rows}, columns: {num_columns}\")"
   ]
  },
  {
   "cell_type": "code",
   "execution_count": 5,
   "id": "145bb475",
   "metadata": {},
   "outputs": [
    {
     "name": "stdout",
     "output_type": "stream",
     "text": [
      "root\n",
      " |-- No: integer (nullable = true)\n",
      " |-- year: integer (nullable = true)\n",
      " |-- month: integer (nullable = true)\n",
      " |-- day: integer (nullable = true)\n",
      " |-- hour: integer (nullable = true)\n",
      " |-- PM10: float (nullable = true)\n",
      " |-- SO2: float (nullable = true)\n",
      " |-- NO2: float (nullable = true)\n",
      " |-- CO: float (nullable = true)\n",
      " |-- O3: float (nullable = true)\n",
      " |-- TEMP: float (nullable = true)\n",
      " |-- PRES: float (nullable = true)\n",
      " |-- DEWP: float (nullable = true)\n",
      " |-- RAIN: float (nullable = true)\n",
      " |-- WSPM: float (nullable = true)\n",
      " |-- PM25: float (nullable = true)\n",
      "\n"
     ]
    }
   ],
   "source": [
    "#drop columns\n",
    "column_to_delete = [\"station\", \"wd\"]\n",
    "df = df.drop(*column_to_delete)\n",
    "df.printSchema()"
   ]
  },
  {
   "cell_type": "code",
   "execution_count": 16,
   "id": "95d637a6",
   "metadata": {},
   "outputs": [
    {
     "data": {
      "image/png": "[encoded data removed]",
      "text/plain": [
       "<Figure size 576x360 with 1 Axes>"
      ]
     },
     "metadata": {
      "needs_background": "light"
     },
     "output_type": "display_data"
    },
    {
     "name": "stderr",
     "output_type": "stream",
     "text": [
      "                                                                                \r"
     ]
    },
    {
     "data": {
      "image/png": "[encoded data removed]",
      "text/plain": [
       "<Figure size 576x360 with 1 Axes>"
      ]
     },
     "metadata": {
      "needs_background": "light"
     },
     "output_type": "display_data"
    },
    {
     "name": "stderr",
     "output_type": "stream",
     "text": [
      "                                                                                \r"
     ]
    },
    {
     "data": {
      "image/png": "[encoded data removed]",
      "text/plain": [
       "<Figure size 576x360 with 1 Axes>"
      ]
     },
     "metadata": {
      "needs_background": "light"
     },
     "output_type": "display_data"
    }
   ],
   "source": [
    "#add visualisation\n",
    "import seaborn as sns\n",
    "import matplotlib.pyplot as plt\n",
    "\n",
    "pm25_data = df.select(\"PM25\").toPandas()[\"PM25\"]\n",
    "plt.figure(figsize=(8, 5))\n",
    "sns.boxplot(x=pm25_data)\n",
    "plt.xlabel(\"PM2.5\")\n",
    "plt.title(\"Box Plot of PM2.5\")\n",
    "plt.show()\n",
    "\n",
    "pm10_data = df.select(\"PM10\").toPandas()[\"PM10\"]\n",
    "plt.figure(figsize=(8, 5))\n",
    "sns.boxplot(x=pm25_data)\n",
    "plt.xlabel(\"PM10\")\n",
    "plt.title(\"Box Plot of PM10\")\n",
    "plt.show()\n",
    "\n",
    "so2_data = df.select(\"SO2\").toPandas()[\"SO2\"]\n",
    "plt.figure(figsize=(8, 5))\n",
    "sns.boxplot(x=pm25_data)\n",
    "plt.xlabel(\"SO2\")\n",
    "plt.title(\"Box Plot of SO2\")\n",
    "plt.show()"
   ]
  },
  {
   "cell_type": "code",
   "execution_count": 6,
   "id": "856d4e0a",
   "metadata": {},
   "outputs": [
    {
     "name": "stderr",
     "output_type": "stream",
     "text": [
      "                                                                                \r"
     ]
    },
    {
     "name": "stdout",
     "output_type": "stream",
     "text": [
      "Good                       14624\n",
      "Moderate                    7865\n",
      "Unhealthy for sensitive     4290\n",
      "Unhealthy                   2336\n",
      "Very Unhealthy              1966\n",
      "Hazardous                    584\n",
      "Very Hazardous               211\n",
      "Name: Pollution Level, dtype: int64\n"
     ]
    }
   ],
   "source": [
    "pandas_df = df.toPandas()\n",
    "\n",
    "def pollution_level(pm25):\n",
    "    if pm25 <= 50:\n",
    "        return 'Good'\n",
    "    elif pm25 <= 100:\n",
    "        return 'Moderate'\n",
    "    elif pm25 <= 150:\n",
    "        return 'Unhealthy for sensitive'\n",
    "    elif pm25 <= 200:\n",
    "        return 'Unhealthy'\n",
    "    elif pm25 <= 300:\n",
    "        return 'Very Unhealthy'\n",
    "    elif pm25 <= 400:\n",
    "        return 'Hazardous'\n",
    "    else:\n",
    "        return 'Very Hazardous'\n",
    "\n",
    "pandas_df['Pollution Level'] = pandas_df['PM25'].apply(pollution_level)\n",
    "level_counts = pandas_df['Pollution Level'].value_counts()\n",
    "print(level_counts)"
   ]
  },
  {
   "cell_type": "code",
   "execution_count": 7,
   "id": "a7309b0a",
   "metadata": {},
   "outputs": [
    {
     "data": {
      "text/plain": [
       "<AxesSubplot:title={'center':'Distribution of Pollution Levels'}, xlabel='Pollution Level', ylabel='count'>"
      ]
     },
     "execution_count": 7,
     "metadata": {},
     "output_type": "execute_result"
    },
    {
     "data": {
      "image/png": "[encoded data removed]",
      "text/plain": [
       "<Figure size 432x288 with 1 Axes>"
      ]
     },
     "metadata": {
      "needs_background": "light"
     },
     "output_type": "display_data"
    }
   ],
   "source": [
    "import seaborn as sns\n",
    "import matplotlib.pyplot as plt\n",
    "\n",
    "plt.xlabel('Pollution Level')\n",
    "plt.ylabel('Count')\n",
    "plt.title('Distribution of Pollution Levels')\n",
    "plt.xticks(rotation=45)\n",
    "sns.countplot(data=pandas_df, x='Pollution Level')"
   ]
  },
  {
   "cell_type": "code",
   "execution_count": 8,
   "id": "eaf11007",
   "metadata": {},
   "outputs": [
    {
     "name": "stdout",
     "output_type": "stream",
     "text": [
      "+---+----+-----+---+----+----+----+----+-----+----+----+------+-----+----+----+----+------+\n",
      "| No|year|month|day|hour|PM10| SO2| NO2|   CO|  O3|TEMP|  PRES| DEWP|RAIN|WSPM|PM25|season|\n",
      "+---+----+-----+---+----+----+----+----+-----+----+----+------+-----+----+----+----+------+\n",
      "|  1|2013|    3|  1|   0| 4.0| 4.0| 7.0|300.0|77.0|-0.7|1023.0|-18.8| 0.0| 4.4| 4.0|winter|\n",
      "|  2|2013|    3|  1|   1| 8.0| 4.0| 7.0|300.0|77.0|-1.1|1023.2|-18.2| 0.0| 4.7| 8.0|winter|\n",
      "|  3|2013|    3|  1|   2| 7.0| 5.0|10.0|300.0|73.0|-1.1|1023.5|-18.2| 0.0| 5.6| 7.0|winter|\n",
      "|  4|2013|    3|  1|   3| 6.0|11.0|11.0|300.0|72.0|-1.4|1024.5|-19.4| 0.0| 3.1| 6.0|winter|\n",
      "|  5|2013|    3|  1|   4| 3.0|12.0|12.0|300.0|72.0|-2.0|1025.2|-19.5| 0.0| 2.0| 3.0|winter|\n",
      "|  6|2013|    3|  1|   5| 5.0|18.0|18.0|400.0|66.0|-2.2|1025.6|-19.6| 0.0| 3.7| 5.0|winter|\n",
      "|  7|2013|    3|  1|   6| 3.0|18.0|32.0|500.0|50.0|-2.6|1026.5|-19.1| 0.0| 2.5| 3.0|winter|\n",
      "|  8|2013|    3|  1|   7| 6.0|19.0|41.0|500.0|43.0|-1.6|1027.4|-19.1| 0.0| 3.8| 3.0|winter|\n",
      "|  9|2013|    3|  1|   8| 6.0|16.0|43.0|500.0|45.0| 0.1|1028.3|-19.2| 0.0| 4.1| 3.0|winter|\n",
      "| 10|2013|    3|  1|   9| 8.0|12.0|28.0|400.0|59.0| 1.2|1028.5|-19.3| 0.0| 2.6| 3.0|winter|\n",
      "| 11|2013|    3|  1|  10| 6.0| 9.0|12.0|400.0|72.0| 1.9|1028.2|-19.4| 0.0| 3.6| 3.0|winter|\n",
      "| 12|2013|    3|  1|  11| 6.0| 9.0|14.0|400.0|71.0| 2.9|1028.2|-20.5| 0.0| 3.7| 3.0|winter|\n",
      "| 13|2013|    3|  1|  12| 6.0| 7.0|13.0|300.0|74.0| 3.9|1027.3|-19.7| 0.0| 5.1| 3.0|winter|\n",
      "| 14|2013|    3|  1|  13| 6.0| 7.0|12.0|400.0|76.0| 5.3|1026.2|-19.3| 0.0| 4.3| 3.0|winter|\n",
      "| 15|2013|    3|  1|  14| 9.0| 7.0|11.0|400.0|77.0| 6.0|1025.9|-19.6| 0.0| 4.4| 6.0|winter|\n",
      "| 16|2013|    3|  1|  15|15.0| 7.0|14.0|400.0|76.0| 6.2|1025.7|-18.6| 0.0| 2.8| 8.0|winter|\n",
      "| 17|2013|    3|  1|  16|19.0| 9.0|13.0|400.0|76.0| 5.9|1025.6|-18.1| 0.0| 3.9| 9.0|winter|\n",
      "| 18|2013|    3|  1|  17|23.0|11.0|15.0|400.0|74.0| 4.3|1026.3|-18.7| 0.0| 2.8|10.0|winter|\n",
      "| 19|2013|    3|  1|  18|20.0| 8.0|20.0|500.0|70.0| 3.1|1027.4|-18.4| 0.0| 2.1|11.0|winter|\n",
      "| 20|2013|    3|  1|  19|14.0|12.0|30.0|500.0|60.0| 2.3|1028.3|-18.4| 0.0| 2.8| 8.0|winter|\n",
      "+---+----+-----+---+----+----+----+----+-----+----+----+------+-----+----+----+----+------+\n",
      "only showing top 20 rows\n",
      "\n"
     ]
    }
   ],
   "source": [
    "#merge data\n",
    "\n",
    "df2 = spark.read.csv('Beijing2013-2017.csv', header=True, inferSchema=True)\n",
    "df2 = df2.select('No', 'season')\n",
    "\n",
    "merged_df = df.join(df2, on='No', how='inner')\n",
    "\n",
    "merged_df.show()"
   ]
  },
  {
   "cell_type": "code",
   "execution_count": 9,
   "id": "320a0726",
   "metadata": {},
   "outputs": [
    {
     "name": "stderr",
     "output_type": "stream",
     "text": [
      "                                                                                \r"
     ]
    },
    {
     "name": "stdout",
     "output_type": "stream",
     "text": [
      "+------+-----+\n",
      "|season|count|\n",
      "+------+-----+\n",
      "|winter|11753|\n",
      "|summer|12228|\n",
      "|spring| 3984|\n",
      "|autumn| 3911|\n",
      "+------+-----+\n",
      "\n"
     ]
    },
    {
     "data": {
      "image/png": "[encoded data removed]",
      "text/plain": [
       "<Figure size 576x432 with 1 Axes>"
      ]
     },
     "metadata": {
      "needs_background": "light"
     },
     "output_type": "display_data"
    }
   ],
   "source": [
    "#visulize count\n",
    "from pyspark.sql.functions import count\n",
    "import matplotlib.pyplot as plt\n",
    "\n",
    "season_counts = merged_df.groupBy('season').agg(count('*').alias('count'))\n",
    "season_counts.show()\n",
    "season_counts_pandas = season_counts.toPandas()\n",
    "\n",
    "plt.figure(figsize=(8, 6))\n",
    "plt.bar(season_counts_pandas['season'], season_counts_pandas['count'])\n",
    "plt.xlabel('Season')\n",
    "plt.ylabel('Count')\n",
    "plt.title('Countplot of Season')\n",
    "plt.show()"
   ]
  },
  {
   "cell_type": "code",
   "execution_count": 6,
   "id": "b26ff84d",
   "metadata": {},
   "outputs": [
    {
     "name": "stdout",
     "output_type": "stream",
     "text": [
      "root\n",
      " |-- month: integer (nullable = true)\n",
      " |-- hour: integer (nullable = true)\n",
      " |-- PM10: float (nullable = true)\n",
      " |-- SO2: float (nullable = true)\n",
      " |-- NO2: float (nullable = true)\n",
      " |-- CO: float (nullable = true)\n",
      " |-- O3: float (nullable = true)\n",
      " |-- TEMP: float (nullable = true)\n",
      " |-- PRES: float (nullable = true)\n",
      " |-- DEWP: float (nullable = true)\n",
      " |-- RAIN: float (nullable = true)\n",
      " |-- WSPM: float (nullable = true)\n",
      " |-- PM25: float (nullable = true)\n",
      "\n"
     ]
    }
   ],
   "source": [
    "#drop more columns\n",
    "column_to_delete = [\"No\", \"year\", \"day\"]\n",
    "df = df.drop(*column_to_delete)\n",
    "df.printSchema()"
   ]
  },
  {
   "cell_type": "code",
   "execution_count": 7,
   "id": "bbe55f20",
   "metadata": {},
   "outputs": [
    {
     "name": "stderr",
     "output_type": "stream",
     "text": [
      "                                                                                \r"
     ]
    },
    {
     "name": "stdout",
     "output_type": "stream",
     "text": [
      "+--------------------------------------------------------------------------------------------+\n",
      "|selectedFeatures                                                                            |\n",
      "+--------------------------------------------------------------------------------------------+\n",
      "|[3.0,0.0,300.0,7.0,4.0,4.400000095367432,77.0,-0.699999988079071,-18.799999237060547,0.0]   |\n",
      "|[3.0,1.0,300.0,7.0,4.0,4.699999809265137,77.0,-1.100000023841858,-18.200000762939453,0.0]   |\n",
      "|[3.0,2.0,300.0,10.0,5.0,5.599999904632568,73.0,-1.100000023841858,-18.200000762939453,0.0]  |\n",
      "|[3.0,3.0,300.0,11.0,11.0,3.0999999046325684,72.0,-1.399999976158142,-19.399999618530273,0.0]|\n",
      "|[3.0,4.0,300.0,12.0,12.0,2.0,72.0,-2.0,-19.5,0.0]                                           |\n",
      "|[3.0,5.0,400.0,18.0,18.0,3.700000047683716,66.0,-2.200000047683716,-19.600000381469727,0.0] |\n",
      "|[3.0,6.0,500.0,32.0,18.0,2.5,50.0,-2.5999999046325684,-19.100000381469727,0.0]              |\n",
      "|[3.0,7.0,500.0,41.0,19.0,3.799999952316284,43.0,-1.600000023841858,-19.100000381469727,0.0] |\n",
      "|[3.0,8.0,500.0,43.0,16.0,4.099999904632568,45.0,0.10000000149011612,-19.200000762939453,0.0]|\n",
      "|[3.0,9.0,400.0,28.0,12.0,2.5999999046325684,59.0,1.2000000476837158,-19.299999237060547,0.0]|\n",
      "|[3.0,10.0,400.0,12.0,9.0,3.5999999046325684,72.0,1.899999976158142,-19.399999618530273,0.0] |\n",
      "|[3.0,11.0,400.0,14.0,9.0,3.700000047683716,71.0,2.9000000953674316,-20.5,0.0]               |\n",
      "|[3.0,12.0,300.0,13.0,7.0,5.099999904632568,74.0,3.9000000953674316,-19.700000762939453,0.0] |\n",
      "|[3.0,13.0,400.0,12.0,7.0,4.300000190734863,76.0,5.300000190734863,-19.299999237060547,0.0]  |\n",
      "|[3.0,14.0,400.0,11.0,7.0,4.400000095367432,77.0,6.0,-19.600000381469727,0.0]                |\n",
      "|[3.0,15.0,400.0,14.0,7.0,2.799999952316284,76.0,6.199999809265137,-18.600000381469727,0.0]  |\n",
      "|[3.0,16.0,400.0,13.0,9.0,3.9000000953674316,76.0,5.900000095367432,-18.100000381469727,0.0] |\n",
      "|[3.0,17.0,400.0,15.0,11.0,2.799999952316284,74.0,4.300000190734863,-18.700000762939453,0.0] |\n",
      "|[3.0,18.0,500.0,20.0,8.0,2.0999999046325684,70.0,3.0999999046325684,-18.399999618530273,0.0]|\n",
      "|[3.0,19.0,500.0,30.0,12.0,2.799999952316284,60.0,2.299999952316284,-18.399999618530273,0.0] |\n",
      "+--------------------------------------------------------------------------------------------+\n",
      "only showing top 20 rows\n",
      "\n",
      "['month', 'hour', 'CO', 'NO2', 'SO2', 'WSPM', 'O3', 'TEMP', 'DEWP', 'RAIN']\n"
     ]
    }
   ],
   "source": [
    "from pyspark.ml.feature import VectorAssembler\n",
    "from pyspark.ml.feature import ChiSqSelector\n",
    "\n",
    "\n",
    "feature_cols =['month','hour','CO','NO2','SO2','WSPM','O3','TEMP','DEWP','RAIN','PRES']\n",
    "assembler = VectorAssembler(inputCols=feature_cols, outputCol=\"features\")\n",
    "data = assembler.transform(df)\n",
    "\n",
    "selector = ChiSqSelector(numTopFeatures=10, featuresCol=\"features\", outputCol=\"selectedFeatures\", labelCol=\"PM25\")\n",
    "model = selector.fit(data)\n",
    "selected_data = model.transform(data)\n",
    "selected_data.select(\"selectedFeatures\").show(truncate=False)\n",
    "selected_indices = model.selectedFeatures\n",
    "selected_feature_names = [feature_cols[i] for i in selected_indices]\n",
    "print(selected_feature_names)"
   ]
  },
  {
   "cell_type": "code",
   "execution_count": 8,
   "id": "54d3d0c3",
   "metadata": {},
   "outputs": [
    {
     "name": "stderr",
     "output_type": "stream",
     "text": [
      "                                                                                \r"
     ]
    }
   ],
   "source": [
    "import pandas as pd\n",
    "from sklearn.feature_selection import SelectKBest, f_regression\n",
    "df_filled = df.toPandas()\n",
    "X = df_filled.drop(['PM25'],axis=1)\n",
    "y = df_filled['PM25']\n",
    "selector = SelectKBest(score_func=f_regression, k=10)\n",
    "selected_features = selector.fit_transform(X, y)\n",
    "mask = selector.get_support()\n",
    "scores = selector.scores_\n",
    "    \n",
    "feature_scores_df = pd.DataFrame({'Feature': X.columns, 'Score': scores})\n",
    "sorted_features = feature_scores_df.sort_values(by='Score', ascending=False)"
   ]
  },
  {
   "cell_type": "code",
   "execution_count": 9,
   "id": "fa5b9335",
   "metadata": {},
   "outputs": [
    {
     "data": {
      "text/html": [
       "<div>\n",
       "<style scoped>\n",
       "    .dataframe tbody tr th:only-of-type {\n",
       "        vertical-align: middle;\n",
       "    }\n",
       "\n",
       "    .dataframe tbody tr th {\n",
       "        vertical-align: top;\n",
       "    }\n",
       "\n",
       "    .dataframe thead th {\n",
       "        text-align: right;\n",
       "    }\n",
       "</style>\n",
       "<table border=\"1\" class=\"dataframe\">\n",
       "  <thead>\n",
       "    <tr style=\"text-align: right;\">\n",
       "      <th></th>\n",
       "      <th>Feature</th>\n",
       "      <th>Score</th>\n",
       "    </tr>\n",
       "  </thead>\n",
       "  <tbody>\n",
       "    <tr>\n",
       "      <th>4</th>\n",
       "      <td>CO</td>\n",
       "      <td>51621.835396</td>\n",
       "    </tr>\n",
       "    <tr>\n",
       "      <th>3</th>\n",
       "      <td>NO2</td>\n",
       "      <td>28345.426673</td>\n",
       "    </tr>\n",
       "    <tr>\n",
       "      <th>2</th>\n",
       "      <td>SO2</td>\n",
       "      <td>10038.997858</td>\n",
       "    </tr>\n",
       "    <tr>\n",
       "      <th>10</th>\n",
       "      <td>WSPM</td>\n",
       "      <td>2843.320349</td>\n",
       "    </tr>\n",
       "    <tr>\n",
       "      <th>5</th>\n",
       "      <td>O3</td>\n",
       "      <td>902.914065</td>\n",
       "    </tr>\n",
       "    <tr>\n",
       "      <th>6</th>\n",
       "      <td>TEMP</td>\n",
       "      <td>511.988813</td>\n",
       "    </tr>\n",
       "    <tr>\n",
       "      <th>8</th>\n",
       "      <td>DEWP</td>\n",
       "      <td>509.992422</td>\n",
       "    </tr>\n",
       "    <tr>\n",
       "      <th>9</th>\n",
       "      <td>RAIN</td>\n",
       "      <td>13.396494</td>\n",
       "    </tr>\n",
       "    <tr>\n",
       "      <th>0</th>\n",
       "      <td>month</td>\n",
       "      <td>8.973441</td>\n",
       "    </tr>\n",
       "    <tr>\n",
       "      <th>1</th>\n",
       "      <td>hour</td>\n",
       "      <td>3.013252</td>\n",
       "    </tr>\n",
       "    <tr>\n",
       "      <th>7</th>\n",
       "      <td>PRES</td>\n",
       "      <td>2.375567</td>\n",
       "    </tr>\n",
       "  </tbody>\n",
       "</table>\n",
       "</div>"
      ],
      "text/plain": [
       "   Feature         Score\n",
       "4       CO  51621.835396\n",
       "3      NO2  28345.426673\n",
       "2      SO2  10038.997858\n",
       "10    WSPM   2843.320349\n",
       "5       O3    902.914065\n",
       "6     TEMP    511.988813\n",
       "8     DEWP    509.992422\n",
       "9     RAIN     13.396494\n",
       "0    month      8.973441\n",
       "1     hour      3.013252\n",
       "7     PRES      2.375567"
      ]
     },
     "execution_count": 9,
     "metadata": {},
     "output_type": "execute_result"
    }
   ],
   "source": [
    "sorted_features"
   ]
  },
  {
   "cell_type": "code",
   "execution_count": 7,
   "id": "ebb87cda",
   "metadata": {},
   "outputs": [
    {
     "name": "stderr",
     "output_type": "stream",
     "text": [
      "                                                                                \r"
     ]
    },
    {
     "name": "stdout",
     "output_type": "stream",
     "text": [
      "Skewed Columns: ['SO2', 'CO', 'O3', 'RAIN', 'WSPM', 'PM25']\n"
     ]
    }
   ],
   "source": [
    "from pyspark.sql.functions import col, skewness\n",
    "\n",
    "threshold = 1.0\n",
    "skewed_columns = []\n",
    "for column in df.columns:\n",
    "    skewness_value = df.select(skewness(col(column)).alias(\"skewness\")).collect()[0][\"skewness\"]\n",
    "    if abs(skewness_value) > threshold:\n",
    "        skewed_columns.append(column)\n",
    "\n",
    "if skewed_columns:\n",
    "    print(\"Skewed Columns:\", skewed_columns)\n",
    "else:\n",
    "    print(\"No Skewness\")"
   ]
  },
  {
   "cell_type": "code",
   "execution_count": 8,
   "id": "25bd14cb",
   "metadata": {},
   "outputs": [
    {
     "name": "stdout",
     "output_type": "stream",
     "text": [
      "+-----+----+----+----+-----+----+----+------+-----+----+----+----+------------------+------------------+------------------+-----------+------------------+------------------+\n",
      "|month|hour| SO2| NO2|   CO|  O3|TEMP|  PRES| DEWP|RAIN|WSPM|PM25|        SO2_BoxCox|         CO_BoxCox|         O3_BoxCox|RAIN_BoxCox|       WSPM_BoxCox|       PM25_BoxCox|\n",
      "+-----+----+----+----+-----+----+----+------+-----+----+----+----+------------------+------------------+------------------+-----------+------------------+------------------+\n",
      "|    3|   0| 4.0| 7.0|300.0|77.0|-0.7|1023.0|-18.8| 0.0| 4.4| 4.0|               2.0|17.320508075688775| 8.774964387392123|        0.0|2.0976177190726224|               2.0|\n",
      "|    3|   1| 4.0| 7.0|300.0|77.0|-1.1|1023.2|-18.2| 0.0| 4.7| 8.0|               2.0|17.320508075688775| 8.774964387392123|        0.0|2.1679482948781637|2.8284271247461903|\n",
      "|    3|   2| 5.0|10.0|300.0|73.0|-1.1|1023.5|-18.2| 0.0| 5.6| 7.0|  2.23606797749979|17.320508075688775|  8.54400374531753|        0.0|2.3664318930897985|2.6457513110645907|\n",
      "|    3|   3|11.0|11.0|300.0|72.0|-1.4|1024.5|-19.4| 0.0| 3.1| 6.0|   3.3166247903554|17.320508075688775|  8.48528137423857|        0.0|  1.76068165908337| 2.449489742783178|\n",
      "|    3|   4|12.0|12.0|300.0|72.0|-2.0|1025.2|-19.5| 0.0| 2.0| 3.0|3.4641016151377544|17.320508075688775|  8.48528137423857|        0.0|1.4142135623730951|1.7320508075688772|\n",
      "|    3|   5|18.0|18.0|400.0|66.0|-2.2|1025.6|-19.6| 0.0| 3.7| 5.0| 4.242640687119285|              20.0|  8.12403840463596|        0.0|1.9235384185619262|  2.23606797749979|\n",
      "|    3|   6|18.0|32.0|500.0|50.0|-2.6|1026.5|-19.1| 0.0| 2.5| 3.0| 4.242640687119285|22.360679774997898|7.0710678118654755|        0.0|1.5811388300841898|1.7320508075688772|\n",
      "|    3|   7|19.0|41.0|500.0|43.0|-1.6|1027.4|-19.1| 0.0| 3.8| 3.0| 4.358898943540674|22.360679774997898|    6.557438524302|        0.0|1.9493588567311777|1.7320508075688772|\n",
      "|    3|   8|16.0|43.0|500.0|45.0| 0.1|1028.3|-19.2| 0.0| 4.1| 3.0|               4.0|22.360679774997898| 6.708203932499369|        0.0|2.0248456495823497|1.7320508075688772|\n",
      "|    3|   9|12.0|28.0|400.0|59.0| 1.2|1028.5|-19.3| 0.0| 2.6| 3.0|3.4641016151377544|              20.0| 7.681145747868608|        0.0|1.6124515200875245|1.7320508075688772|\n",
      "|    3|  10| 9.0|12.0|400.0|72.0| 1.9|1028.2|-19.4| 0.0| 3.6| 3.0|               3.0|              20.0|  8.48528137423857|        0.0|1.8973665709695025|1.7320508075688772|\n",
      "|    3|  11| 9.0|14.0|400.0|71.0| 2.9|1028.2|-20.5| 0.0| 3.7| 3.0|               3.0|              20.0| 8.426149773176359|        0.0|1.9235384185619262|1.7320508075688772|\n",
      "|    3|  12| 7.0|13.0|300.0|74.0| 3.9|1027.3|-19.7| 0.0| 5.1| 3.0|2.6457513110645907|17.320508075688775| 8.602325267042627|        0.0|2.2583179370125386|1.7320508075688772|\n",
      "|    3|  13| 7.0|12.0|400.0|76.0| 5.3|1026.2|-19.3| 0.0| 4.3| 3.0|2.6457513110645907|              20.0| 8.717797887081348|        0.0| 2.073644181323031|1.7320508075688772|\n",
      "|    3|  14| 7.0|11.0|400.0|77.0| 6.0|1025.9|-19.6| 0.0| 4.4| 6.0|2.6457513110645907|              20.0| 8.774964387392123|        0.0|2.0976177190726224| 2.449489742783178|\n",
      "|    3|  15| 7.0|14.0|400.0|76.0| 6.2|1025.7|-18.6| 0.0| 2.8| 8.0|2.6457513110645907|              20.0| 8.717797887081348|        0.0|1.6733200388199156|2.8284271247461903|\n",
      "|    3|  16| 9.0|13.0|400.0|76.0| 5.9|1025.6|-18.1| 0.0| 3.9| 9.0|               3.0|              20.0| 8.717797887081348|        0.0|1.9748417899587378|               3.0|\n",
      "|    3|  17|11.0|15.0|400.0|74.0| 4.3|1026.3|-18.7| 0.0| 2.8|10.0|   3.3166247903554|              20.0| 8.602325267042627|        0.0|1.6733200388199156|3.1622776601683795|\n",
      "|    3|  18| 8.0|20.0|500.0|70.0| 3.1|1027.4|-18.4| 0.0| 2.1|11.0|2.8284271247461903|22.360679774997898| 8.366600265340756|        0.0|1.4491376417140533|   3.3166247903554|\n",
      "|    3|  19|12.0|30.0|500.0|60.0| 2.3|1028.3|-18.4| 0.0| 2.8| 8.0|3.4641016151377544|22.360679774997898| 7.745966692414834|        0.0|1.6733200388199156|2.8284271247461903|\n",
      "+-----+----+----+----+-----+----+----+------+-----+----+----+----+------------------+------------------+------------------+-----------+------------------+------------------+\n",
      "only showing top 20 rows\n",
      "\n"
     ]
    }
   ],
   "source": [
    "from pyspark.sql.functions import col, expr\n",
    "from pyspark.sql import functions as F\n",
    "\n",
    "selected_features = ['SO2', 'CO', 'O3', 'RAIN', 'WSPM', 'PM25']\n",
    "df_trans_B = df\n",
    "\n",
    "for feature in selected_features:\n",
    "        df_trans_B = df_trans_B.withColumn(feature + '_BoxCox', expr(f'POW({feature}, 0.5)'))\n",
    "df_trans_B.show()"
   ]
  },
  {
   "cell_type": "code",
   "execution_count": 9,
   "id": "4e393f71",
   "metadata": {},
   "outputs": [
    {
     "name": "stdout",
     "output_type": "stream",
     "text": [
      "+-----+----+----+----+-----+----+----+------+-----+----+----+----+------------------+------------------+------------------+--------+------------------+------------------+\n",
      "|month|hour| SO2| NO2|   CO|  O3|TEMP|  PRES| DEWP|RAIN|WSPM|PM25|           SO2_Log|            CO_Log|            O3_Log|RAIN_Log|          WSPM_Log|          PM25_Log|\n",
      "+-----+----+----+----+-----+----+----+------+-----+----+----+----+------------------+------------------+------------------+--------+------------------+------------------+\n",
      "|    3|   0| 4.0| 7.0|300.0|77.0|-0.7|1023.0|-18.8| 0.0| 4.4| 4.0|1.6094379124341003| 5.707110264748875| 4.356708826689592|     0.0| 1.686398971230864|1.6094379124341003|\n",
      "|    3|   1| 4.0| 7.0|300.0|77.0|-1.1|1023.2|-18.2| 0.0| 4.7| 8.0|1.6094379124341003| 5.707110264748875| 4.356708826689592|     0.0|1.7404661413782472|2.1972245773362196|\n",
      "|    3|   2| 5.0|10.0|300.0|73.0|-1.1|1023.5|-18.2| 0.0| 5.6| 7.0| 1.791759469228055| 5.707110264748875| 4.304065093204169|     0.0|1.8870696345827689|2.0794415416798357|\n",
      "|    3|   3|11.0|11.0|300.0|72.0|-1.4|1024.5|-19.4| 0.0| 3.1| 6.0|2.4849066497880004| 5.707110264748875| 4.290459441148391|     0.0|1.4109869504499126|1.9459101490553132|\n",
      "|    3|   4|12.0|12.0|300.0|72.0|-2.0|1025.2|-19.5| 0.0| 2.0| 3.0|2.5649493574615367| 5.707110264748875| 4.290459441148391|     0.0|1.0986122886681096|1.3862943611198906|\n",
      "|    3|   5|18.0|18.0|400.0|66.0|-2.2|1025.6|-19.6| 0.0| 3.7| 5.0|2.9444389791664403| 5.993961427306569| 4.204692619390966|     0.0|1.5475624681341262| 1.791759469228055|\n",
      "|    3|   6|18.0|32.0|500.0|50.0|-2.6|1026.5|-19.1| 0.0| 2.5| 3.0|2.9444389791664403|6.2166061010848646|3.9318256327243257|     0.0| 1.252762968495368|1.3862943611198906|\n",
      "|    3|   7|19.0|41.0|500.0|43.0|-1.6|1027.4|-19.1| 0.0| 3.8| 3.0| 2.995732273553991|6.2166061010848646| 3.784189633918261|     0.0|1.5686159576502743|1.3862943611198906|\n",
      "|    3|   8|16.0|43.0|500.0|45.0| 0.1|1028.3|-19.2| 0.0| 4.1| 3.0| 2.833213344056216|6.2166061010848646| 3.828641396489095|     0.0|1.6292405210307834|1.3862943611198906|\n",
      "|    3|   9|12.0|28.0|400.0|59.0| 1.2|1028.5|-19.3| 0.0| 2.6| 3.0|2.5649493574615367| 5.993961427306569|   4.0943445622221|     0.0|1.2809338189711108|1.3862943611198906|\n",
      "|    3|  10| 9.0|12.0|400.0|72.0| 1.9|1028.2|-19.4| 0.0| 3.6| 3.0| 2.302585092994046| 5.993961427306569| 4.290459441148391|     0.0|1.5260562827629987|1.3862943611198906|\n",
      "|    3|  11| 9.0|14.0|400.0|71.0| 2.9|1028.2|-20.5| 0.0| 3.7| 3.0| 2.302585092994046| 5.993961427306569| 4.276666119016055|     0.0|1.5475624681341262|1.3862943611198906|\n",
      "|    3|  12| 7.0|13.0|300.0|74.0| 3.9|1027.3|-19.7| 0.0| 5.1| 3.0|2.0794415416798357| 5.707110264748875|  4.31748811353631|     0.0|1.8082887555452603|1.3862943611198906|\n",
      "|    3|  13| 7.0|12.0|400.0|76.0| 5.3|1026.2|-19.3| 0.0| 4.3| 3.0|2.0794415416798357| 5.993961427306569| 4.343805421853684|     0.0|1.6677068565457855|1.3862943611198906|\n",
      "|    3|  14| 7.0|11.0|400.0|77.0| 6.0|1025.9|-19.6| 0.0| 4.4| 6.0|2.0794415416798357| 5.993961427306569| 4.356708826689592|     0.0| 1.686398971230864|1.9459101490553132|\n",
      "|    3|  15| 7.0|14.0|400.0|76.0| 6.2|1025.7|-18.6| 0.0| 2.8| 8.0|2.0794415416798357| 5.993961427306569| 4.343805421853684|     0.0|1.3350010541839938|2.1972245773362196|\n",
      "|    3|  16| 9.0|13.0|400.0|76.0| 5.9|1025.6|-18.1| 0.0| 3.9| 9.0| 2.302585092994046| 5.993961427306569| 4.343805421853684|     0.0| 1.589235224579322| 2.302585092994046|\n",
      "|    3|  17|11.0|15.0|400.0|74.0| 4.3|1026.3|-18.7| 0.0| 2.8|10.0|2.4849066497880004| 5.993961427306569|  4.31748811353631|     0.0|1.3350010541839938|2.3978952727983707|\n",
      "|    3|  18| 8.0|20.0|500.0|70.0| 3.1|1027.4|-18.4| 0.0| 2.1|11.0|2.1972245773362196|6.2166061010848646|4.2626798770413155|     0.0|1.1314020807274123|2.4849066497880004|\n",
      "|    3|  19|12.0|30.0|500.0|60.0| 2.3|1028.3|-18.4| 0.0| 2.8| 8.0|2.5649493574615367|6.2166061010848646| 4.110873864173311|     0.0|1.3350010541839938|2.1972245773362196|\n",
      "+-----+----+----+----+-----+----+----+------+-----+----+----+----+------------------+------------------+------------------+--------+------------------+------------------+\n",
      "only showing top 20 rows\n",
      "\n"
     ]
    }
   ],
   "source": [
    "from pyspark.sql.functions import col, expr\n",
    "from pyspark.sql import functions as F\n",
    "\n",
    "selected_features = ['SO2', 'CO', 'O3', 'RAIN', 'WSPM', 'PM25']\n",
    "df_trans = df\n",
    "\n",
    "for feature in selected_features:\n",
    "        df_trans = df_trans.withColumn(feature + '_Log', F.log(col(feature) + 1))\n",
    "df_trans.show()"
   ]
  },
  {
   "cell_type": "code",
   "execution_count": 10,
   "id": "8ac1138b",
   "metadata": {},
   "outputs": [
    {
     "name": "stderr",
     "output_type": "stream",
     "text": [
      "                                                                                \r"
     ]
    },
    {
     "data": {
      "image/png": "[encoded data removed]",
      "text/plain": [
       "<Figure size 432x288 with 1 Axes>"
      ]
     },
     "metadata": {
      "needs_background": "light"
     },
     "output_type": "display_data"
    }
   ],
   "source": [
    "import matplotlib.pyplot as plt\n",
    "hist_data = df_trans.select(\"PM25_Log\").rdd.flatMap(lambda x: x).histogram(20)\n",
    "hist_values = hist_data[1]\n",
    "hist_bins = hist_data[0]\n",
    "plt.hist(hist_bins[:-1], bins=hist_bins, weights=hist_values, color='blue', alpha=0.7)\n",
    "plt.xlabel(\"PM25_Log\")\n",
    "plt.ylabel(\"Count\")\n",
    "plt.title(\"Histogram of PM25_Log\")\n",
    "plt.show()"
   ]
  },
  {
   "cell_type": "code",
   "execution_count": 11,
   "id": "682cfbcd",
   "metadata": {},
   "outputs": [
    {
     "name": "stderr",
     "output_type": "stream",
     "text": [
      "                                                                                \r"
     ]
    },
    {
     "data": {
      "image/png": "[encoded data removed]",
      "text/plain": [
       "<Figure size 432x288 with 1 Axes>"
      ]
     },
     "metadata": {
      "needs_background": "light"
     },
     "output_type": "display_data"
    }
   ],
   "source": [
    "import matplotlib.pyplot as plt\n",
    "hist_data = df_trans_B.select(\"CO_BoxCox\").rdd.flatMap(lambda x: x).histogram(20)\n",
    "hist_values = hist_data[1]\n",
    "hist_bins = hist_data[0]\n",
    "plt.hist(hist_bins[:-1], bins=hist_bins, weights=hist_values, color='blue', alpha=0.7)\n",
    "plt.xlabel(\"CO_BoxCox\")\n",
    "plt.ylabel(\"Count\")\n",
    "plt.title(\"Histogram of CO_BoxCox\")\n",
    "plt.show()"
   ]
  },
  {
   "cell_type": "code",
   "execution_count": 7,
   "id": "a79d9c2e",
   "metadata": {},
   "outputs": [
    {
     "name": "stderr",
     "output_type": "stream",
     "text": [
      "23/10/10 07:24:08 WARN Instrumentation: [2e2e79d1] regParam is zero, which might cause numerical instability and overfitting.\n",
      "23/10/10 07:24:11 WARN InstanceBuilder$NativeBLAS: Failed to load implementation from:dev.ludovic.netlib.blas.JNIBLAS\n",
      "23/10/10 07:24:11 WARN InstanceBuilder$NativeBLAS: Failed to load implementation from:dev.ludovic.netlib.blas.ForeignLinkerBLAS\n",
      "23/10/10 07:24:12 WARN InstanceBuilder$NativeLAPACK: Failed to load implementation from:dev.ludovic.netlib.lapack.JNILAPACK\n",
      "[Stage 7:>                                                          (0 + 1) / 1]\r"
     ]
    },
    {
     "name": "stdout",
     "output_type": "stream",
     "text": [
      "+-------------------+-----+--------------------+\n",
      "|         prediction| PM25|         features_lr|\n",
      "+-------------------+-----+--------------------+\n",
      "| 13.064039134859517| 13.0|[1.0,0.0,500.0,29...|\n",
      "|-0.7373847366745636|  8.0|[1.0,0.0,600.0,9....|\n",
      "| 11.066519687279456|  7.0|[1.0,0.0,700.0,9....|\n",
      "|  27.61449317477959| 10.0|[1.0,0.0,300.0,33...|\n",
      "| 342.36386415090874|395.0|[1.0,0.0,6900.0,1...|\n",
      "+-------------------+-----+--------------------+\n",
      "only showing top 5 rows\n",
      "\n"
     ]
    },
    {
     "name": "stderr",
     "output_type": "stream",
     "text": [
      "\r",
      "                                                                                \r"
     ]
    }
   ],
   "source": [
    "#Build model Linear Regression\n",
    "from pyspark.ml.regression import LinearRegression\n",
    "from pyspark.ml.feature import VectorAssembler\n",
    "from pyspark.ml.evaluation import RegressionEvaluator\n",
    "\n",
    "feature_cols = ['month', 'hour', 'CO', 'NO2', 'SO2', 'WSPM', 'O3', 'TEMP', 'DEWP', 'RAIN']\n",
    "vector_assembler = VectorAssembler(inputCols=feature_cols, outputCol=\"features_lr\")\n",
    "df = vector_assembler.transform(df)\n",
    "\n",
    "train_data, test_data = df.randomSplit([0.8, 0.2], seed=42)\n",
    "lr = LinearRegression(featuresCol=\"features_lr\", labelCol=\"PM25\")\n",
    "lr_model = lr.fit(train_data)\n",
    "predictions = lr_model.transform(test_data)\n",
    "\n",
    "predictions.select(\"prediction\", \"PM25\", \"features_lr\").show(5)"
   ]
  },
  {
   "cell_type": "code",
   "execution_count": 9,
   "id": "600fd976",
   "metadata": {},
   "outputs": [
    {
     "name": "stderr",
     "output_type": "stream",
     "text": [
      "                                                                                \r"
     ]
    },
    {
     "data": {
      "image/png": "[encoded data removed]",
      "text/plain": [
       "<Figure size 576x432 with 1 Axes>"
      ]
     },
     "metadata": {
      "needs_background": "light"
     },
     "output_type": "display_data"
    }
   ],
   "source": [
    "from pyspark.sql.functions import col\n",
    "import matplotlib.pyplot as plt\n",
    "\n",
    "actual_values = predictions.select(\"PM25\").rdd.flatMap(lambda x: x).collect()\n",
    "predicted_values = predictions.select(\"prediction\").rdd.flatMap(lambda x: x).collect()\n",
    "\n",
    "plt.figure(figsize=(8, 6))\n",
    "plt.scatter(actual_values, predicted_values, c='blue', marker='o', label='Actual vs. Predicted')\n",
    "\n",
    "plt.xlabel('Actual Values')\n",
    "plt.ylabel('Predicted Values')\n",
    "plt.title('Predicted Value vs. Actual Value Linear Regression')\n",
    "\n",
    "plt.plot([min(actual_values), max(actual_values)], [min(actual_values), max(actual_values)], linestyle='--', color='red', label='Perfect Prediction')\n",
    "plt.legend()\n",
    "plt.show()"
   ]
  },
  {
   "cell_type": "code",
   "execution_count": 10,
   "id": "1be1214a",
   "metadata": {},
   "outputs": [
    {
     "name": "stdout",
     "output_type": "stream",
     "text": [
      "Root Mean Squared Error (RMSE) Linear Regression: 41.556150981822526\n"
     ]
    },
    {
     "name": "stderr",
     "output_type": "stream",
     "text": [
      "                                                                                \r"
     ]
    },
    {
     "name": "stdout",
     "output_type": "stream",
     "text": [
      "Mean Absolute Error (MAE) Linear Regression: 28.461320982369056\n",
      "R-squared (R2) Linear Regression: 0.7249699427264588\n",
      "Mean Squared Error (MSE) Linear Regression: 1726.9136844240293\n"
     ]
    }
   ],
   "source": [
    "evaluator = RegressionEvaluator(labelCol=\"PM25\", predictionCol=\"prediction\", metricName=\"rmse\")\n",
    "rmse_lr = evaluator.evaluate(predictions)\n",
    "print(f\"Root Mean Squared Error (RMSE) Linear Regression: {rmse_lr}\")\n",
    "\n",
    "mae_lr = evaluator.evaluate(predictions, {evaluator.metricName: \"mae\"})\n",
    "r2_lr = evaluator.evaluate(predictions, {evaluator.metricName: \"r2\"})\n",
    "mse_lr = evaluator.evaluate(predictions, {evaluator.metricName: \"mse\"})\n",
    "print(f\"Mean Absolute Error (MAE) Linear Regression: {mae_lr}\")\n",
    "print(f\"R-squared (R2) Linear Regression: {r2_lr}\")\n",
    "print(f\"Mean Squared Error (MSE) Linear Regression: {mse_lr}\")"
   ]
  },
  {
   "cell_type": "code",
   "execution_count": 7,
   "id": "1ff62632",
   "metadata": {},
   "outputs": [
    {
     "name": "stderr",
     "output_type": "stream",
     "text": [
      "[Stage 109:>                                                        (0 + 1) / 1]\r"
     ]
    },
    {
     "name": "stdout",
     "output_type": "stream",
     "text": [
      "+------------------+-----+--------------------+\n",
      "|        prediction| PM25|        features_gbt|\n",
      "+------------------+-----+--------------------+\n",
      "|12.503988607058243| 13.0|[1.0,0.0,500.0,29...|\n",
      "|13.988034186385617|  8.0|[1.0,0.0,600.0,9....|\n",
      "|13.988034186385617|  7.0|[1.0,0.0,700.0,9....|\n",
      "|11.970244930065718| 10.0|[1.0,0.0,300.0,33...|\n",
      "| 423.3200358956415|395.0|[1.0,0.0,6900.0,1...|\n",
      "+------------------+-----+--------------------+\n",
      "only showing top 5 rows\n",
      "\n"
     ]
    },
    {
     "name": "stderr",
     "output_type": "stream",
     "text": [
      "23/10/10 06:47:54 WARN InstanceBuilder$NativeBLAS: Failed to load implementation from:dev.ludovic.netlib.blas.JNIBLAS\n",
      "23/10/10 06:47:54 WARN InstanceBuilder$NativeBLAS: Failed to load implementation from:dev.ludovic.netlib.blas.ForeignLinkerBLAS\n",
      "\r",
      "                                                                                \r"
     ]
    }
   ],
   "source": [
    "#Build model GBT\n",
    "from pyspark.ml.regression import GBTRegressor\n",
    "from pyspark.ml.evaluation import RegressionEvaluator\n",
    "from pyspark.ml.feature import VectorAssembler\n",
    "\n",
    "feature_cols = ['month', 'hour', 'CO', 'NO2', 'SO2', 'WSPM', 'O3', 'TEMP', 'DEWP', 'RAIN']\n",
    "vector_assembler = VectorAssembler(inputCols=feature_cols, outputCol=\"features_gbt\")\n",
    "df = vector_assembler.transform(df)\n",
    "\n",
    "train_data, test_data = df.randomSplit([0.8, 0.2], seed=42)\n",
    "gbt_regressor = GBTRegressor(featuresCol=\"features_gbt\", labelCol=\"PM25\", maxIter=10)\n",
    "gbt_model = gbt_regressor.fit(train_data)\n",
    "predictions = gbt_model.transform(test_data)\n",
    "\n",
    "predictions.select(\"prediction\", \"PM25\", \"features_gbt\").show(5)"
   ]
  },
  {
   "cell_type": "code",
   "execution_count": null,
   "id": "13d3b67d",
   "metadata": {},
   "outputs": [],
   "source": [
    "from pyspark.sql.functions import col\n",
    "import matplotlib.pyplot as plt\n",
    "\n",
    "actual_values = predictions.select(\"PM25\").rdd.flatMap(lambda x: x).collect()\n",
    "predicted_values = predictions.select(\"prediction\").rdd.flatMap(lambda x: x).collect()\n",
    "\n",
    "plt.figure(figsize=(8, 6))\n",
    "plt.scatter(actual_values, predicted_values, c='blue', marker='o', label='Actual vs. Predicted')\n",
    "\n",
    "plt.xlabel('Actual Values')\n",
    "plt.ylabel('Predicted Values')\n",
    "plt.title('Predicted Value vs. Actual Value GBTRegressor')\n",
    "\n",
    "plt.plot([min(actual_values), max(actual_values)], [min(actual_values), max(actual_values)], linestyle='--', color='red', label='Perfect Prediction')\n",
    "plt.legend()\n",
    "plt.show()"
   ]
  },
  {
   "cell_type": "code",
   "execution_count": 9,
   "id": "ad9fa4f8",
   "metadata": {},
   "outputs": [
    {
     "name": "stdout",
     "output_type": "stream",
     "text": [
      "Root Mean Squared Error (RMSE) GBTRegressor: 36.008758705206404\n"
     ]
    },
    {
     "name": "stderr",
     "output_type": "stream",
     "text": [
      "\r",
      "[Stage 115:>                                                        (0 + 1) / 1]\r",
      "\r",
      "                                                                                \r"
     ]
    },
    {
     "name": "stdout",
     "output_type": "stream",
     "text": [
      "Mean Absolute Error (MAE) GBTRegressor: 24.102813040686655\n",
      "R-squared (R2) GBTRegressor: 0.7934972547499586\n",
      "Mean Squared Error (MSE) GBTRegressor: 1296.630703489778\n"
     ]
    }
   ],
   "source": [
    "evaluator = RegressionEvaluator(labelCol=\"PM25\", predictionCol=\"prediction\", metricName=\"rmse\")\n",
    "rmse_gbt = evaluator.evaluate(predictions)\n",
    "print(f\"Root Mean Squared Error (RMSE) GBTRegressor: {rmse_gbt}\")\n",
    "\n",
    "mae_gbt = evaluator.evaluate(predictions, {evaluator.metricName: \"mae\"})\n",
    "r2_gbt = evaluator.evaluate(predictions, {evaluator.metricName: \"r2\"})\n",
    "mse_gbt = evaluator.evaluate(predictions, {evaluator.metricName: \"mse\"})\n",
    "print(f\"Mean Absolute Error (MAE) GBTRegressor: {mae_gbt}\")\n",
    "print(f\"R-squared (R2) GBTRegressor: {r2_gbt}\")\n",
    "print(f\"Mean Squared Error (MSE) GBTRegressor: {mse_gbt}\")"
   ]
  },
  {
   "cell_type": "code",
   "execution_count": 8,
   "id": "b6f0e64b",
   "metadata": {},
   "outputs": [
    {
     "name": "stdout",
     "output_type": "stream",
     "text": [
      "GBT Regressor Feature Importance:\n",
      "month: 0.11710288159099458\n",
      "hour: 0.017405105112677684\n",
      "CO: 0.4979450909111288\n",
      "NO2: 0.0954399751743395\n",
      "SO2: 0.06765171674134153\n",
      "WSPM: 0.0018885573835885896\n",
      "O3: 0.05440039127806462\n",
      "TEMP: 0.014181067153876889\n",
      "DEWP: 0.12953526869402157\n",
      "RAIN: 0.004449945959966301\n"
     ]
    }
   ],
   "source": [
    "#Feature Importance GBT\n",
    "feature_importance = gbt_model.featureImportances\n",
    "feature_importance_dict = {feature_cols[i]: feature_importance[i] for i in range(len(feature_cols))}\n",
    "\n",
    "print(\"GBT Regressor Feature Importance:\")\n",
    "for feature, importance in feature_importance_dict.items():\n",
    "    print(f\"{feature}: {importance}\")"
   ]
  },
  {
   "cell_type": "code",
   "execution_count": 10,
   "id": "8972edf0",
   "metadata": {},
   "outputs": [
    {
     "data": {
      "image/png": "[encoded data removed]",
      "text/plain": [
       "<Figure size 720x432 with 1 Axes>"
      ]
     },
     "metadata": {
      "needs_background": "light"
     },
     "output_type": "display_data"
    }
   ],
   "source": [
    "import matplotlib.pyplot as plt\n",
    "\n",
    "features = list(feature_importance_dict.keys())\n",
    "importance_scores = list(feature_importance_dict.values())\n",
    "\n",
    "plt.figure(figsize=(10, 6))\n",
    "plt.barh(features, importance_scores)\n",
    "plt.xlabel('Feature Importance')\n",
    "plt.ylabel('Features')\n",
    "plt.title('Feature Importance in GBTRegressor')\n",
    "plt.gca().invert_yaxis()\n",
    "plt.show()"
   ]
  },
  {
   "cell_type": "code",
   "execution_count": 7,
   "id": "f8df5ab4",
   "metadata": {},
   "outputs": [
    {
     "name": "stderr",
     "output_type": "stream",
     "text": [
      "[Stage 19:>                                                         (0 + 1) / 1]\r"
     ]
    },
    {
     "name": "stdout",
     "output_type": "stream",
     "text": [
      "+------------------+----+--------------------+\n",
      "|        prediction|PM25|         features_rf|\n",
      "+------------------+----+--------------------+\n",
      "|18.627323332459277|10.0|[1.0,0.0,300.0,33...|\n",
      "| 16.74083694462409|13.0|[1.0,0.0,500.0,29...|\n",
      "|16.285437851545424|13.0|[1.0,0.0,600.0,22...|\n",
      "|21.693341332493198|19.0|[1.0,0.0,700.0,35...|\n",
      "|19.219742836495225|14.0|[1.0,0.0,700.0,29...|\n",
      "+------------------+----+--------------------+\n",
      "only showing top 5 rows\n",
      "\n"
     ]
    },
    {
     "name": "stderr",
     "output_type": "stream",
     "text": [
      "\r",
      "                                                                                \r"
     ]
    }
   ],
   "source": [
    "#Build model Random Forest\n",
    "from pyspark.ml.regression import RandomForestRegressor\n",
    "from pyspark.ml.evaluation import RegressionEvaluator\n",
    "from pyspark.ml.feature import VectorAssembler\n",
    "\n",
    "feature_cols = ['month', 'hour', 'CO', 'NO2', 'SO2', 'WSPM', 'O3', 'TEMP', 'DEWP', 'RAIN']\n",
    "vector_assembler = VectorAssembler(inputCols=feature_cols, outputCol=\"features_rf\")\n",
    "df = vector_assembler.transform(df)\n",
    "\n",
    "train_data, test_data = df.randomSplit([0.8, 0.2], seed=42)\n",
    "rf_regressor = RandomForestRegressor(featuresCol=\"features_rf\", labelCol=\"PM25\", numTrees=100)\n",
    "rf_model = rf_regressor.fit(train_data)\n",
    "predictions = rf_model.transform(test_data)\n",
    "\n",
    "predictions.select(\"prediction\", \"PM25\", \"features_rf\").show(5)"
   ]
  },
  {
   "cell_type": "code",
   "execution_count": 8,
   "id": "08b335d4",
   "metadata": {},
   "outputs": [
    {
     "name": "stderr",
     "output_type": "stream",
     "text": [
      "                                                                                \r"
     ]
    },
    {
     "name": "stdout",
     "output_type": "stream",
     "text": [
      "Root Mean Squared Error (RMSE) Random Forest: 39.36506108272249\n"
     ]
    },
    {
     "name": "stderr",
     "output_type": "stream",
     "text": [
      "[Stage 23:>                                                         (0 + 1) / 1]\r"
     ]
    },
    {
     "name": "stdout",
     "output_type": "stream",
     "text": [
      "Mean Absolute Error (MAE) Random Forest: 26.698200001526015\n",
      "R-squared (R2) Random Forest: 0.7532078237613329\n",
      "Mean Squared Error (MSE) Random Forest: 1549.6080340464725\n"
     ]
    },
    {
     "name": "stderr",
     "output_type": "stream",
     "text": [
      "\r",
      "                                                                                \r"
     ]
    }
   ],
   "source": [
    "evaluator = RegressionEvaluator(labelCol=\"PM25\", predictionCol=\"prediction\", metricName=\"rmse\")\n",
    "rmse_rf = evaluator.evaluate(predictions)\n",
    "print(f\"Root Mean Squared Error (RMSE) Random Forest: {rmse_rf}\")\n",
    "\n",
    "mae_rf = evaluator.evaluate(predictions, {evaluator.metricName: \"mae\"})\n",
    "r2_rf = evaluator.evaluate(predictions, {evaluator.metricName: \"r2\"})\n",
    "mse_rf = evaluator.evaluate(predictions, {evaluator.metricName: \"mse\"})\n",
    "print(f\"Mean Absolute Error (MAE) Random Forest: {mae_rf}\")\n",
    "print(f\"R-squared (R2) Random Forest: {r2_rf}\")\n",
    "print(f\"Mean Squared Error (MSE) Random Forest: {mse_rf}\")"
   ]
  },
  {
   "cell_type": "code",
   "execution_count": 8,
   "id": "2737b938",
   "metadata": {},
   "outputs": [
    {
     "name": "stdout",
     "output_type": "stream",
     "text": [
      "Random Forest Regressor Feature Importance:\n",
      "month: 0.009952484460290047\n",
      "hour: 0.0008769991177929651\n",
      "CO: 0.5440074477900736\n",
      "NO2: 0.2565145811902493\n",
      "SO2: 0.07948508657772041\n",
      "WSPM: 0.008935468099201071\n",
      "O3: 0.03497483843263439\n",
      "TEMP: 0.014910052217898626\n",
      "DEWP: 0.050012227330705025\n",
      "RAIN: 0.00033081478343451986\n"
     ]
    }
   ],
   "source": [
    "#Feature Importance Random Forest\n",
    "feature_importance = rf_model.featureImportances\n",
    "feature_importance_dict = {feature_cols[i]: feature_importance[i] for i in range(len(feature_cols))}\n",
    "\n",
    "print(\"Random Forest Regressor Feature Importance:\")\n",
    "for feature, importance in feature_importance_dict.items():\n",
    "    print(f\"{feature}: {importance}\")"
   ]
  },
  {
   "cell_type": "code",
   "execution_count": 9,
   "id": "1babebf7",
   "metadata": {
    "scrolled": false
   },
   "outputs": [
    {
     "data": {
      "image/png": "[encoded data removed]",
      "text/plain": [
       "<Figure size 720x432 with 1 Axes>"
      ]
     },
     "metadata": {
      "needs_background": "light"
     },
     "output_type": "display_data"
    }
   ],
   "source": [
    "import matplotlib.pyplot as plt\n",
    "\n",
    "features = list(feature_importance_dict.keys())\n",
    "importance_scores = list(feature_importance_dict.values())\n",
    "\n",
    "plt.figure(figsize=(10, 6))\n",
    "plt.barh(features, importance_scores)\n",
    "plt.xlabel('Feature Importance')\n",
    "plt.ylabel('Features')\n",
    "plt.title('Feature Importance in Random Forest Regressor')\n",
    "plt.gca().invert_yaxis()\n",
    "plt.show()"
   ]
  },
  {
   "cell_type": "code",
   "execution_count": 10,
   "id": "b38cd5a4",
   "metadata": {},
   "outputs": [
    {
     "data": {
      "image/png": "[encoded data removed]",
      "text/plain": [
       "<Figure size 720x432 with 2 Axes>"
      ]
     },
     "metadata": {
      "needs_background": "light"
     },
     "output_type": "display_data"
    }
   ],
   "source": [
    "import seaborn as sns\n",
    "import matplotlib.pyplot as plt\n",
    "\n",
    "plt.figure(figsize=(10, 6))\n",
    "sns.heatmap([importance_scores], annot=True, fmt=\".4f\", xticklabels=features, yticklabels=False)\n",
    "plt.xlabel('Features')\n",
    "plt.title('Feature Importance Heatmap in Random Forest Regressor')\n",
    "plt.show()"
   ]
  },
  {
   "cell_type": "code",
   "execution_count": 12,
   "id": "be380222",
   "metadata": {},
   "outputs": [
    {
     "data": {
      "image/png": "[encoded data removed]",
      "text/plain": [
       "<Figure size 720x1008 with 4 Axes>"
      ]
     },
     "metadata": {
      "needs_background": "light"
     },
     "output_type": "display_data"
    }
   ],
   "source": [
    "import seaborn as sns\n",
    "import matplotlib.pyplot as plt\n",
    "models = ['Linear Regression', 'GBTRegressor', 'Random Forest']\n",
    "rmse_values = [rmse_lr, rmse_gbt, rmse_rf]\n",
    "mae_values = [mae_lr, mae_gbt, mae_rf]\n",
    "r_squared_values = [r_squared_lr, r_squared_gbt, r_squared_rf]\n",
    "mse_values = [mse_lr, mse_gbt, mse_rf]\n",
    "\n",
    "\n",
    "fig, axes = plt.subplots(4, 1, figsize=(10, 14))\n",
    "sns.barplot(x=rmse_values, y=models, ax=axes[0])\n",
    "axes[0].set_title('RMSE Comparison')\n",
    "\n",
    "sns.barplot(x=mae_values, y=models, ax=axes[1])\n",
    "axes[1].set_title('MAE Comparison')\n",
    "\n",
    "sns.barplot(x=r_squared_values, y=models, ax=axes[2])\n",
    "axes[2].set_title('R-squared Comparison')\n",
    "\n",
    "sns.barplot(x=mse_values, y=models, ax=axes[3])\n",
    "axes[3].set_title('Mean Squared Error Comparison')\n",
    "\n",
    "plt.tight_layout()\n",
    "plt.show()"
   ]
  },
  {
   "cell_type": "code",
   "execution_count": null,
   "id": "03fcbf30",
   "metadata": {},
   "outputs": [],
   "source": [
    "#Learning Curve\n",
    "from pyspark.ml.evaluation import RegressionEvaluator\n",
    "from pyspark.ml.tuning import TrainValidationSplit\n",
    "from pyspark.ml.feature import VectorAssembler\n",
    "import numpy as np\n",
    "import matplotlib.pyplot as plt\n",
    "\n",
    "def plot_learning_curve_spark(model, title, train, metric_name, param_name, param_values):\n",
    "    train_sizes = []\n",
    "    train_scores = []\n",
    "    test_scores = []\n",
    "\n",
    "    for param_value in param_values:\n",
    "        param = {param_name: param_value}\n",
    "        param_model = model.copy(param)\n",
    "        train_model = param_model.fit(train)\n",
    "        predictions = train_model.transform(train)\n",
    "        evaluator = RegressionEvaluator(metricName=metric_name)\n",
    "        train_score = evaluator.evaluate(predictions)\n",
    "        train_sizes.append(param_value)\n",
    "        train_scores.append(train_score)\n",
    "        test_scores.append(test_score)\n",
    "\n",
    "    plt.figure()\n",
    "    plt.title(title)\n",
    "    plt.xlabel(param_name)\n",
    "    plt.ylabel(metric_name)\n",
    "    plt.grid()\n",
    "\n",
    "    plt.plot(train_sizes, train_scores, 'o-', color=\"r\", label=\"Training score\")\n",
    "    plt.plot(train_sizes, test_scores, 'o-', color=\"g\", label=\"Cross-validation score\")\n",
    "    plt.legend(loc=\"best\")\n",
    "\n",
    "    return plt\n",
    "\n",
    "feature_cols = ['month', 'hour', 'CO', 'NO2', 'SO2', 'WSPM', 'O3', 'TEMP', 'DEWP', 'RAIN']\n",
    "assembler = VectorAssembler(inputCols=feature_cols, outputCol='PM25')\n",
    "assembled_df = assembler.transform(df).select('features', 'PM25')\n",
    "\n",
    "param_name = \"Training examples\"\n",
    "param_values = [0.01, 0.1, 1.0, 10.0]\n",
    "\n",
    "title = \"Learning Curves (Linear Regression)\"\n",
    "metric_name = \"rmse\"\n",
    "plot_learning_curve_spark(lr_model, title, assembled_df, metric_name, param_name, param_values)\n",
    "\n",
    "plt.show()"
   ]
  }
 ],
 "metadata": {
  "kernelspec": {
   "display_name": "Python 3 (ipykernel)",
   "language": "python",
   "name": "python3"
  },
  "language_info": {
   "codemirror_mode": {
    "name": "ipython",
    "version": 3
   },
   "file_extension": ".py",
   "mimetype": "text/x-python",
   "name": "python",
   "nbconvert_exporter": "python",
   "pygments_lexer": "ipython3",
   "version": "3.10.12"
  }
 },
 "nbformat": 4,
 "nbformat_minor": 5
}
